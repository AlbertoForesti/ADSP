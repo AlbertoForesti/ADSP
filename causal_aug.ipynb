{
 "cells": [
  {
   "cell_type": "code",
   "execution_count": 1,
   "metadata": {},
   "outputs": [
    {
     "name": "stdout",
     "output_type": "stream",
     "text": [
      "(100, 4)\n"
     ]
    }
   ],
   "source": [
    "import numpy as np\n",
    "import pandas as pd\n",
    "\n",
    "x = np.random.normal(size=(100,2))\n",
    "y = 2*x+np.random.normal(scale=1e-1, size=(100,2))\n",
    "\n",
    "data = pd.DataFrame(np.hstack((x,y)), columns=['x1', 'x2', 'y1', 'y2'])\n",
    "\n",
    "print(data.shape)"
   ]
  },
  {
   "cell_type": "code",
   "execution_count": 2,
   "metadata": {},
   "outputs": [
    {
     "name": "stdout",
     "output_type": "stream",
     "text": [
      "[0, 3, 2, 1]\n",
      "[[0.         0.         0.         0.        ]\n",
      " [0.         0.         0.         0.50110996]\n",
      " [2.01922193 0.         0.         0.        ]\n",
      " [0.         0.         0.         0.        ]]\n"
     ]
    }
   ],
   "source": [
    "import pandas as pd\n",
    "import lingam\n",
    "\n",
    "# To run causal discovery, we create a DirectLiNGAM object and call the fit method.\n",
    "model = lingam.DirectLiNGAM()\n",
    "model.fit(data)\n",
    "\n",
    "# Using the causal_order_ properties, \n",
    "# we can see the causal ordering as a result of the causal discovery.\n",
    "print(model.causal_order_)\n",
    "\n",
    "# Also, using the adjacency_matrix_ properties, \n",
    "# we can see the adjacency matrix as a result of the causal discovery.\n",
    "print(model.adjacency_matrix_)"
   ]
  },
  {
   "cell_type": "code",
   "execution_count": 3,
   "metadata": {},
   "outputs": [
    {
     "data": {
      "image/png": "[encoded data removed]",
      "text/plain": [
       "<Figure size 640x480 with 1 Axes>"
      ]
     },
     "metadata": {},
     "output_type": "display_data"
    }
   ],
   "source": [
    "import networkx as nx\n",
    "\n",
    "causal_graph = nx.DiGraph(model.adjacency_matrix_)\n",
    "\n",
    "nx.draw(causal_graph)"
   ]
  },
  {
   "cell_type": "code",
   "execution_count": 4,
   "metadata": {},
   "outputs": [],
   "source": [
    "from typing import Union, Callable, Iterable, Optional, Any, Tuple, List\n",
    "from tqdm import tqdm\n",
    "import numpy as np\n",
    "from sklearn.neighbors import KernelDensity\n",
    "\n",
    "\n",
    "class Kernel:\n",
    "\n",
    "    \"\"\"\n",
    "    Implements a product kernel given a list of kernel functions\n",
    "    \"\"\"\n",
    "    \n",
    "    def __init__(self, kernel_functions: Iterable[Callable], kernel_coefficients: Optional[Iterable[float]] = None) -> None:\n",
    "        self.kernel_functions = kernel_functions\n",
    "        if kernel_coefficients is None:\n",
    "            kernel_coefficients = np.ones_like(kernel_functions)\n",
    "        self.kernel_coefficients = kernel_coefficients\n",
    "\n",
    "    def __call__(self, x, feature: int, causal_graph: 'nx.Digraph') -> Any:\n",
    "        preceding_features = causal_graph.predecessors(feature)\n",
    "        prod = 1\n",
    "        x = np.array(x)\n",
    "        for feat in preceding_features:\n",
    "            coeff = self.kernel_coefficients[feat]\n",
    "            partial_res = self.kernel_functions[feat](x[feat]/coeff)/coeff \n",
    "            prod*=partial_res\n",
    "            if partial_res > 1:\n",
    "                raise ValueError(f'Error: rbf kernel gave {self.kernel_functions[feat](x[feat])} with {x[feat]}')\n",
    "            if partial_res==0:\n",
    "                raise ValueError(f'Error: rbf kernel gave {self.kernel_functions[feat](x[feat])} with {x[feat]}')\n",
    "        return prod\n",
    "\n",
    "def map_indeces_to_sample(indeces: Iterable, feature_list: Iterable, data: Iterable) -> 'np.Array':\n",
    "    try:\n",
    "        data = np.array(data)\n",
    "    except:\n",
    "        TypeError(f'Could not cast data of type {type(data)} to numpy array')\n",
    "    try:\n",
    "        feature_list = np.array(feature_list)\n",
    "    except:\n",
    "        TypeError(f'Could not cast feature_list of type {type(feature_list)} to numpy array')\n",
    "    try:\n",
    "        indeces = np.array(list(indeces))\n",
    "    except:\n",
    "        TypeError(f'Could not cast indeces of type {type(indeces)} to numpy array')\n",
    "    if len(indeces.shape)==1:\n",
    "        indeces = np.reshape(indeces, (1,)+indeces.shape)\n",
    "    return np.array([[data[sample_index, feature_list[i]] for i, sample_index in enumerate(indeces_of_one_sample)]for indeces_of_one_sample in indeces]) \n",
    "\n",
    "def check_sample_is_original(indeces: Iterable):\n",
    "    return len(np.unique(indeces)) == 1\n",
    "\n",
    "def causal_augmentation(data: 'pd.DataFrame', causal_graph: nx.Graph, kernel: Kernel, threshold: float, aug_coeff: float) -> Tuple['np.array', 'np.array']:\n",
    "\n",
    "    weight_dict = dict()\n",
    "    weight_dict[tuple()] = 1\n",
    "    feature_list = list(nx.topological_sort(causal_graph))\n",
    "\n",
    "    for feature_index, feature in tqdm(enumerate(feature_list)):\n",
    "        new_dict = dict()\n",
    "        for leaf in weight_dict.keys():\n",
    "            for current_datum_index in range(len(data)):\n",
    "                new_leaf = leaf + (current_datum_index,)\n",
    "                augmented_sample = np.array([data.iloc[sample_index, feature_list[i]] for i, sample_index in enumerate(new_leaf)])\n",
    "                kernel_results = []\n",
    "                for k in range(len(data)):\n",
    "                    truncated_data = data.iloc[k,feature_list[:feature_index+1]]\n",
    "                    try:\n",
    "                        kernel_results.append(kernel(augmented_sample-truncated_data, feature, causal_graph))\n",
    "                    except:\n",
    "                        raise ValueError(f'Shapes {augmented_sample.shape}, {truncated_data.shape} not compatible\\\n",
    "                                         \\nSamples are {augmented_sample}, {truncated_data}')\n",
    "\n",
    "                den = sum(kernel_results)\n",
    "                num = kernel(augmented_sample-data.iloc[current_datum_index,feature_list[:feature_index+1]], feature, causal_graph)\n",
    "                if den>0:\n",
    "                    w = num/den\n",
    "                else:\n",
    "                    w = 0\n",
    "                w = weight_dict[leaf]*w\n",
    "                if w>threshold/len(data):\n",
    "                    new_dict[new_leaf] = w\n",
    "        weight_dict = new_dict\n",
    "    \n",
    "    augmented_data_set = map_indeces_to_sample(weight_dict.keys(), feature_list, data)\n",
    "    augmented_data_set = np.vstack((np.array(data), augmented_data_set))\n",
    "\n",
    "    weights_aug = aug_coeff*len(data)*np.array(list(weight_dict.values()))\n",
    "    weights_orig = (1-aug_coeff)*np.ones((len(data),))\n",
    "    weights = np.hstack((weights_orig, weights_aug))\n",
    "\n",
    "    return augmented_data_set, weights\n",
    "\n",
    "def get_default_kernel_functions_from_df(df: 'pd.DataFrame') -> List[Callable]:\n",
    "    types = df.dtypes\n",
    "    kfs = []\n",
    "    for t in types:\n",
    "        if pd.api.types.is_integer_dtype(t):\n",
    "            kfs.append(lambda x: 1 if x==0 else 0)\n",
    "        elif pd.api.types.is_float_dtype(t):\n",
    "            kfs.append(lambda x: np.power(2*np.pi, -0.5)*np.exp(-np.power(x, 2)/2))\n",
    "        else:\n",
    "            raise TypeError(f'{t} not supported')\n",
    "    return kfs"
   ]
  },
  {
   "cell_type": "code",
   "execution_count": 5,
   "metadata": {},
   "outputs": [
    {
     "name": "stderr",
     "output_type": "stream",
     "text": [
      "1it [00:00,  8.57it/s]"
     ]
    },
    {
     "name": "stderr",
     "output_type": "stream",
     "text": [
      "2it [00:01,  1.89it/s]\n"
     ]
    }
   ],
   "source": [
    "import lingam\n",
    "import numpy as np\n",
    "import pandas as pd\n",
    "import networkx as nx\n",
    "\n",
    "x = np.random.normal(size=(10,1))\n",
    "y = 2*x+np.random.normal(scale=1e-1, size=x.shape)\n",
    "\n",
    "data = pd.DataFrame(np.hstack((x,y)))\n",
    "# To run causal discovery, we create a DirectLiNGAM object and call the fit method.\n",
    "model = lingam.DirectLiNGAM()\n",
    "model.fit(data)\n",
    "\n",
    "causal_graph = nx.DiGraph(model.adjacency_matrix_)\n",
    "\n",
    "kfs = get_default_kernel_functions_from_df(data)\n",
    "kernel = Kernel(kfs)\n",
    "data_aug, weights = causal_augmentation(data, causal_graph, kernel, 0, 0.5)"
   ]
  },
  {
   "cell_type": "code",
   "execution_count": 6,
   "metadata": {},
   "outputs": [
    {
     "data": {
      "text/html": [
       "<style>#sk-container-id-1 {color: black;}#sk-container-id-1 pre{padding: 0;}#sk-container-id-1 div.sk-toggleable {background-color: white;}#sk-container-id-1 label.sk-toggleable__label {cursor: pointer;display: block;width: 100%;margin-bottom: 0;padding: 0.3em;box-sizing: border-box;text-align: center;}#sk-container-id-1 label.sk-toggleable__label-arrow:before {content: \"▸\";float: left;margin-right: 0.25em;color: #696969;}#sk-container-id-1 label.sk-toggleable__label-arrow:hover:before {color: black;}#sk-container-id-1 div.sk-estimator:hover label.sk-toggleable__label-arrow:before {color: black;}#sk-container-id-1 div.sk-toggleable__content {max-height: 0;max-width: 0;overflow: hidden;text-align: left;background-color: #f0f8ff;}#sk-container-id-1 div.sk-toggleable__content pre {margin: 0.2em;color: black;border-radius: 0.25em;background-color: #f0f8ff;}#sk-container-id-1 input.sk-toggleable__control:checked~div.sk-toggleable__content {max-height: 200px;max-width: 100%;overflow: auto;}#sk-container-id-1 input.sk-toggleable__control:checked~label.sk-toggleable__label-arrow:before {content: \"▾\";}#sk-container-id-1 div.sk-estimator input.sk-toggleable__control:checked~label.sk-toggleable__label {background-color: #d4ebff;}#sk-container-id-1 div.sk-label input.sk-toggleable__control:checked~label.sk-toggleable__label {background-color: #d4ebff;}#sk-container-id-1 input.sk-hidden--visually {border: 0;clip: rect(1px 1px 1px 1px);clip: rect(1px, 1px, 1px, 1px);height: 1px;margin: -1px;overflow: hidden;padding: 0;position: absolute;width: 1px;}#sk-container-id-1 div.sk-estimator {font-family: monospace;background-color: #f0f8ff;border: 1px dotted black;border-radius: 0.25em;box-sizing: border-box;margin-bottom: 0.5em;}#sk-container-id-1 div.sk-estimator:hover {background-color: #d4ebff;}#sk-container-id-1 div.sk-parallel-item::after {content: \"\";width: 100%;border-bottom: 1px solid gray;flex-grow: 1;}#sk-container-id-1 div.sk-label:hover label.sk-toggleable__label {background-color: #d4ebff;}#sk-container-id-1 div.sk-serial::before {content: \"\";position: absolute;border-left: 1px solid gray;box-sizing: border-box;top: 0;bottom: 0;left: 50%;z-index: 0;}#sk-container-id-1 div.sk-serial {display: flex;flex-direction: column;align-items: center;background-color: white;padding-right: 0.2em;padding-left: 0.2em;position: relative;}#sk-container-id-1 div.sk-item {position: relative;z-index: 1;}#sk-container-id-1 div.sk-parallel {display: flex;align-items: stretch;justify-content: center;background-color: white;position: relative;}#sk-container-id-1 div.sk-item::before, #sk-container-id-1 div.sk-parallel-item::before {content: \"\";position: absolute;border-left: 1px solid gray;box-sizing: border-box;top: 0;bottom: 0;left: 50%;z-index: -1;}#sk-container-id-1 div.sk-parallel-item {display: flex;flex-direction: column;z-index: 1;position: relative;background-color: white;}#sk-container-id-1 div.sk-parallel-item:first-child::after {align-self: flex-end;width: 50%;}#sk-container-id-1 div.sk-parallel-item:last-child::after {align-self: flex-start;width: 50%;}#sk-container-id-1 div.sk-parallel-item:only-child::after {width: 0;}#sk-container-id-1 div.sk-dashed-wrapped {border: 1px dashed gray;margin: 0 0.4em 0.5em 0.4em;box-sizing: border-box;padding-bottom: 0.4em;background-color: white;}#sk-container-id-1 div.sk-label label {font-family: monospace;font-weight: bold;display: inline-block;line-height: 1.2em;}#sk-container-id-1 div.sk-label-container {text-align: center;}#sk-container-id-1 div.sk-container {/* jupyter's `normalize.less` sets `[hidden] { display: none; }` but bootstrap.min.css set `[hidden] { display: none !important; }` so we also need the `!important` here to be able to override the default hidden behavior on the sphinx rendered scikit-learn.org. See: https://github.com/scikit-learn/scikit-learn/issues/21755 */display: inline-block !important;position: relative;}#sk-container-id-1 div.sk-text-repr-fallback {display: none;}</style><div id=\"sk-container-id-1\" class=\"sk-top-container\"><div class=\"sk-text-repr-fallback\"><pre>XGBRegressor(base_score=None, booster=None, callbacks=None,\n",
       "             colsample_bylevel=None, colsample_bynode=None,\n",
       "             colsample_bytree=None, device=None, early_stopping_rounds=None,\n",
       "             enable_categorical=False, eval_metric=None, feature_types=None,\n",
       "             gamma=None, grow_policy=None, importance_type=None,\n",
       "             interaction_constraints=None, learning_rate=None, max_bin=None,\n",
       "             max_cat_threshold=None, max_cat_to_onehot=None,\n",
       "             max_delta_step=None, max_depth=None, max_leaves=None,\n",
       "             min_child_weight=None, missing=nan, monotone_constraints=None,\n",
       "             multi_strategy=None, n_estimators=None, n_jobs=None,\n",
       "             num_parallel_tree=None, random_state=None, ...)</pre><b>In a Jupyter environment, please rerun this cell to show the HTML representation or trust the notebook. <br />On GitHub, the HTML representation is unable to render, please try loading this page with nbviewer.org.</b></div><div class=\"sk-container\" hidden><div class=\"sk-item\"><div class=\"sk-estimator sk-toggleable\"><input class=\"sk-toggleable__control sk-hidden--visually\" id=\"sk-estimator-id-1\" type=\"checkbox\" checked><label for=\"sk-estimator-id-1\" class=\"sk-toggleable__label sk-toggleable__label-arrow\">XGBRegressor</label><div class=\"sk-toggleable__content\"><pre>XGBRegressor(base_score=None, booster=None, callbacks=None,\n",
       "             colsample_bylevel=None, colsample_bynode=None,\n",
       "             colsample_bytree=None, device=None, early_stopping_rounds=None,\n",
       "             enable_categorical=False, eval_metric=None, feature_types=None,\n",
       "             gamma=None, grow_policy=None, importance_type=None,\n",
       "             interaction_constraints=None, learning_rate=None, max_bin=None,\n",
       "             max_cat_threshold=None, max_cat_to_onehot=None,\n",
       "             max_delta_step=None, max_depth=None, max_leaves=None,\n",
       "             min_child_weight=None, missing=nan, monotone_constraints=None,\n",
       "             multi_strategy=None, n_estimators=None, n_jobs=None,\n",
       "             num_parallel_tree=None, random_state=None, ...)</pre></div></div></div></div></div>"
      ],
      "text/plain": [
       "XGBRegressor(base_score=None, booster=None, callbacks=None,\n",
       "             colsample_bylevel=None, colsample_bynode=None,\n",
       "             colsample_bytree=None, device=None, early_stopping_rounds=None,\n",
       "             enable_categorical=False, eval_metric=None, feature_types=None,\n",
       "             gamma=None, grow_policy=None, importance_type=None,\n",
       "             interaction_constraints=None, learning_rate=None, max_bin=None,\n",
       "             max_cat_threshold=None, max_cat_to_onehot=None,\n",
       "             max_delta_step=None, max_depth=None, max_leaves=None,\n",
       "             min_child_weight=None, missing=nan, monotone_constraints=None,\n",
       "             multi_strategy=None, n_estimators=None, n_jobs=None,\n",
       "             num_parallel_tree=None, random_state=None, ...)"
      ]
     },
     "execution_count": 6,
     "metadata": {},
     "output_type": "execute_result"
    }
   ],
   "source": [
    "from xgboost import XGBRegressor\n",
    "\n",
    "reg = XGBRegressor()\n",
    "X_train = data_aug[:,0]\n",
    "y_train = data_aug[:,1]\n",
    "\n",
    "reg.fit(X_train.reshape((-1,1)), y_train, sample_weight=weights)"
   ]
  }
 ],
 "metadata": {
  "kernelspec": {
   "display_name": "Python 3",
   "language": "python",
   "name": "python3"
  },
  "language_info": {
   "codemirror_mode": {
    "name": "ipython",
    "version": 3
   },
   "file_extension": ".py",
   "mimetype": "text/x-python",
   "name": "python",
   "nbconvert_exporter": "python",
   "pygments_lexer": "ipython3",
   "version": "3.12.0"
  }
 },
 "nbformat": 4,
 "nbformat_minor": 2
}
